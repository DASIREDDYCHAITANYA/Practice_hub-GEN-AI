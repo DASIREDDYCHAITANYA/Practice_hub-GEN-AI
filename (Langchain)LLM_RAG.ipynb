{
  "nbformat": 4,
  "nbformat_minor": 0,
  "metadata": {
    "colab": {
      "provenance": [],
      "gpuType": "T4",
      "authorship_tag": "ABX9TyO4UyHE2nTRRgdj7pRzJ03Y",
      "include_colab_link": true
    },
    "kernelspec": {
      "name": "python3",
      "display_name": "Python 3"
    },
    "language_info": {
      "name": "python"
    },
    "accelerator": "GPU"
  },
  "cells": [
    {
      "cell_type": "markdown",
      "metadata": {
        "id": "view-in-github",
        "colab_type": "text"
      },
      "source": [
        "<a href=\"https://colab.research.google.com/github/DASIREDDYCHAITANYA/Practice_hub-GEN-AI/blob/main/LLM_RAG(CHATBOT).ipynb\" target=\"_parent\"><img src=\"https://colab.research.google.com/assets/colab-badge.svg\" alt=\"Open In Colab\"/></a>"
      ]
    },
    {
      "cell_type": "code",
      "source": [
        "!pip install langchain_community\n",
        "!pip install pypdf\n",
        "!pip install langchain\n",
        "!pip install faiss-cpu\n",
        "!pip install langchain_huggingface\n"
      ],
      "metadata": {
        "id": "sf9A1Hv8AE-G"
      },
      "execution_count": null,
      "outputs": []
    },
    {
      "cell_type": "code",
      "execution_count": null,
      "metadata": {
        "id": "9BwowIeJ99G8"
      },
      "outputs": [],
      "source": [
        "import getpass\n",
        "import os\n",
        "\n",
        "if not os.getenv(\"HUGGINGFACEHUB_API_TOKEN\"):\n",
        "    os.environ[\"HUGGINGFACEHUB_API_TOKEN\"] = getpass.getpass(\"Enter your token: \")"
      ]
    },
    {
      "cell_type": "code",
      "source": [
        "from langchain.text_splitter import RecursiveCharacterTextSplitter\n",
        "from langchain.vectorstores import FAISS\n",
        "from langchain_community.document_loaders import PyPDFLoader\n",
        "from langchain_huggingface import HuggingFaceEmbeddings\n",
        "\n",
        "embeddings = HuggingFaceEmbeddings(model_name=\"sentence-transformers/all-mpnet-base-v2\")"
      ],
      "metadata": {
        "id": "TrB2z2n9AyAz"
      },
      "execution_count": null,
      "outputs": []
    },
    {
      "cell_type": "code",
      "source": [
        "loader=PyPDFLoader(\"/content/attention.pdf\")\n",
        "data=loader.load()\n",
        "data"
      ],
      "metadata": {
        "id": "yChdCSc_AyDl"
      },
      "execution_count": null,
      "outputs": []
    },
    {
      "cell_type": "code",
      "source": [
        "splitter=RecursiveCharacterTextSplitter(chunk_size=1000,chunk_overlap=150)\n",
        "data=splitter.split_documents(data)\n",
        "data[:5]"
      ],
      "metadata": {
        "id": "tFTcFgNYAx4b"
      },
      "execution_count": null,
      "outputs": []
    },
    {
      "cell_type": "code",
      "source": [
        "vector=FAISS.from_documents(data,embeddings)"
      ],
      "metadata": {
        "id": "kh9mFDYzBEnS"
      },
      "execution_count": 20,
      "outputs": []
    },
    {
      "cell_type": "code",
      "source": [
        "query = \"what is Recurrent neural networks?\"\n",
        "docs = vector.similarity_search(query)\n",
        "print(docs[0].page_content)"
      ],
      "metadata": {
        "colab": {
          "base_uri": "https://localhost:8080/"
        },
        "id": "qr1L5Ct9B7kT",
        "outputId": "a2b78c3d-9bbd-4944-ad61-19150b4725ae"
      },
      "execution_count": 23,
      "outputs": [
        {
          "output_type": "stream",
          "name": "stdout",
          "text": [
            "1 Introduction\n",
            "Recurrent neural networks, long short-term memory [13] and gated recurrent [7] neural networks\n",
            "in particular, have been firmly established as state of the art approaches in sequence modeling and\n"
          ]
        }
      ]
    },
    {
      "cell_type": "code",
      "source": [
        "retriver=vector.as_retriever(search_type=\"similarity\",search_kwargs={\"k\":4})"
      ],
      "metadata": {
        "id": "X2Q5KP1OCDl2"
      },
      "execution_count": 36,
      "outputs": []
    },
    {
      "cell_type": "code",
      "source": [
        "from langchain.llms import HuggingFacePipeline\n",
        "from transformers import AutoTokenizer, AutoModelForSeq2SeqLM, pipeline\n",
        "\n",
        "model_id = \"google/flan-t5-large\"  # 1024 token limit\n",
        "tokenizer = AutoTokenizer.from_pretrained(model_id)\n",
        "model = AutoModelForSeq2SeqLM.from_pretrained(model_id)\n",
        "\n",
        "pipe = pipeline(\"text2text-generation\", model=model, tokenizer=tokenizer, max_length=700, truncation=True)\n",
        "\n",
        "llm = HuggingFacePipeline(pipeline=pipe)\n"
      ],
      "metadata": {
        "colab": {
          "base_uri": "https://localhost:8080/"
        },
        "id": "BviwlHV9DGr1",
        "outputId": "c8a7ef55-f7b4-4f69-a604-06bb59bb350c"
      },
      "execution_count": 37,
      "outputs": [
        {
          "output_type": "stream",
          "name": "stderr",
          "text": [
            "Device set to use cuda:0\n"
          ]
        }
      ]
    },
    {
      "cell_type": "code",
      "source": [
        "prompt_template=\"\"\"\n",
        "Use the following piece of context to answer the question asked.\n",
        "Please try to provide the answer only based on the context\n",
        "\n",
        "{context}\n",
        "Question:{question}\n",
        "\n",
        "Helpful Answers:\n",
        " \"\"\""
      ],
      "metadata": {
        "id": "xeI4J0caD_ol"
      },
      "execution_count": 38,
      "outputs": []
    },
    {
      "cell_type": "code",
      "source": [
        "from langchain.prompts import PromptTemplate\n",
        "\n",
        "prompt=PromptTemplate(template=prompt_template,input_variables=[\"context\",\"question\"])"
      ],
      "metadata": {
        "id": "rbqZ5_e6GlE5"
      },
      "execution_count": 39,
      "outputs": []
    },
    {
      "cell_type": "code",
      "source": [
        "from langchain.chains import RetrievalQA\n",
        "\n",
        "retrievalQA=RetrievalQA.from_chain_type(llm=llm,chain_type=\"stuff\",retriever=retriver,chain_type_kwargs={\"prompt\":prompt})"
      ],
      "metadata": {
        "id": "IVx6Xk_aGvSV"
      },
      "execution_count": 40,
      "outputs": []
    },
    {
      "cell_type": "code",
      "source": [
        "query = \"what is Recurrent neural networks?\"\n",
        "result=retrievalQA.run(query)\n",
        "print(result)"
      ],
      "metadata": {
        "colab": {
          "base_uri": "https://localhost:8080/"
        },
        "id": "mHEEBHffG3IP",
        "outputId": "a24fa133-ad4e-48d8-fd54-6dc9f69519e7"
      },
      "execution_count": 41,
      "outputs": [
        {
          "output_type": "stream",
          "name": "stdout",
          "text": [
            "state of the art approaches in sequence modeling and Recognition\n"
          ]
        }
      ]
    },
    {
      "cell_type": "code",
      "source": [],
      "metadata": {
        "id": "dSEY5RoLK4_B"
      },
      "execution_count": null,
      "outputs": []
    }
  ]
}
