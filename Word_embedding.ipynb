{
  "nbformat": 4,
  "nbformat_minor": 0,
  "metadata": {
    "colab": {
      "provenance": [],
      "authorship_tag": "ABX9TyNHi2GkXj9xgcFGZoCWN7zL",
      "include_colab_link": true
    },
    "kernelspec": {
      "name": "python3",
      "display_name": "Python 3"
    },
    "language_info": {
      "name": "python"
    }
  },
  "cells": [
    {
      "cell_type": "markdown",
      "metadata": {
        "id": "view-in-github",
        "colab_type": "text"
      },
      "source": [
        "<a href=\"https://colab.research.google.com/github/DASIREDDYCHAITANYA/Practice_hub-GEN-AI/blob/main/Word_embedding.ipynb\" target=\"_parent\"><img src=\"https://colab.research.google.com/assets/colab-badge.svg\" alt=\"Open In Colab\"/></a>"
      ]
    },
    {
      "cell_type": "code",
      "execution_count": null,
      "metadata": {
        "id": "MDnmD1tjDFNb"
      },
      "outputs": [],
      "source": [
        "from nltk.corpus import stopwords\n",
        "import nltk"
      ]
    },
    {
      "cell_type": "code",
      "source": [
        "from nltk.stem import PorterStemmer"
      ],
      "metadata": {
        "id": "njIlw_MpDdB6"
      },
      "execution_count": null,
      "outputs": []
    },
    {
      "cell_type": "code",
      "source": [
        "from tensorflow.keras.preprocessing.text import one_hot"
      ],
      "metadata": {
        "id": "2Pv4YGk-FegV"
      },
      "execution_count": null,
      "outputs": []
    },
    {
      "cell_type": "code",
      "source": [
        "from tensorflow.keras.layers import Embedding, LSTM, Dense\n",
        "from tensorflow.keras.preprocessing.sequence import pad_sequences"
      ],
      "metadata": {
        "id": "YM_YdStAF2xu"
      },
      "execution_count": null,
      "outputs": []
    },
    {
      "cell_type": "code",
      "source": [
        "from tensorflow.keras.models import Sequential"
      ],
      "metadata": {
        "id": "LEFC792LG_an"
      },
      "execution_count": null,
      "outputs": []
    },
    {
      "cell_type": "code",
      "source": [
        "nltk.download('stopwords')"
      ],
      "metadata": {
        "colab": {
          "base_uri": "https://localhost:8080/"
        },
        "id": "6kaVtXWmDMTD",
        "outputId": "d1c25c7a-ad28-475e-bced-58d2adb3da0a"
      },
      "execution_count": null,
      "outputs": [
        {
          "output_type": "stream",
          "name": "stderr",
          "text": [
            "[nltk_data] Downloading package stopwords to /root/nltk_data...\n",
            "[nltk_data]   Package stopwords is already up-to-date!\n"
          ]
        },
        {
          "output_type": "execute_result",
          "data": {
            "text/plain": [
              "True"
            ]
          },
          "metadata": {},
          "execution_count": 33
        }
      ]
    },
    {
      "cell_type": "code",
      "source": [
        "p=PorterStemmer()"
      ],
      "metadata": {
        "id": "sulok7RgDkBU"
      },
      "execution_count": null,
      "outputs": []
    },
    {
      "cell_type": "code",
      "source": [
        "x=p.stem(\"going\")"
      ],
      "metadata": {
        "id": "i9sIEZMuD0F_"
      },
      "execution_count": null,
      "outputs": []
    },
    {
      "cell_type": "code",
      "source": [
        "x"
      ],
      "metadata": {
        "colab": {
          "base_uri": "https://localhost:8080/",
          "height": 35
        },
        "id": "pUe-SZVxD7vW",
        "outputId": "42d7bd24-7704-47c2-a3fe-974496992d58"
      },
      "execution_count": null,
      "outputs": [
        {
          "output_type": "execute_result",
          "data": {
            "text/plain": [
              "'go'"
            ],
            "application/vnd.google.colaboratory.intrinsic+json": {
              "type": "string"
            }
          },
          "metadata": {},
          "execution_count": 36
        }
      ]
    },
    {
      "cell_type": "code",
      "source": [
        "message=\"hi hello! House Dem Aide: We Didn’t Even See Comey’s \""
      ],
      "metadata": {
        "id": "eed6QidGD8CC"
      },
      "execution_count": null,
      "outputs": []
    },
    {
      "cell_type": "code",
      "source": [
        "import re"
      ],
      "metadata": {
        "id": "gJB5GSTGEMxw"
      },
      "execution_count": null,
      "outputs": []
    },
    {
      "cell_type": "code",
      "source": [
        "review = re.sub('[^a-zA-Z]', ' ', message)\n"
      ],
      "metadata": {
        "id": "j2k2byo7ESho"
      },
      "execution_count": null,
      "outputs": []
    },
    {
      "cell_type": "code",
      "source": [
        "review"
      ],
      "metadata": {
        "colab": {
          "base_uri": "https://localhost:8080/",
          "height": 35
        },
        "id": "opyfNEHkEe7p",
        "outputId": "7e456f99-1d35-41f3-8f44-c9f7de7b0c3f"
      },
      "execution_count": null,
      "outputs": [
        {
          "output_type": "execute_result",
          "data": {
            "text/plain": [
              "'hi hello  House Dem Aide  We Didn t Even See Comey s '"
            ],
            "application/vnd.google.colaboratory.intrinsic+json": {
              "type": "string"
            }
          },
          "metadata": {},
          "execution_count": 40
        }
      ]
    },
    {
      "cell_type": "code",
      "source": [
        "review = review.lower()\n",
        "review=review.split()"
      ],
      "metadata": {
        "id": "psFq0-M-EgXZ"
      },
      "execution_count": null,
      "outputs": []
    },
    {
      "cell_type": "code",
      "source": [
        "review"
      ],
      "metadata": {
        "colab": {
          "base_uri": "https://localhost:8080/"
        },
        "id": "t0glszqtEoeE",
        "outputId": "99e6b627-e502-41ef-e5ad-ac069d741b86"
      },
      "execution_count": null,
      "outputs": [
        {
          "output_type": "execute_result",
          "data": {
            "text/plain": [
              "['hi',\n",
              " 'hello',\n",
              " 'house',\n",
              " 'dem',\n",
              " 'aide',\n",
              " 'we',\n",
              " 'didn',\n",
              " 't',\n",
              " 'even',\n",
              " 'see',\n",
              " 'comey',\n",
              " 's']"
            ]
          },
          "metadata": {},
          "execution_count": 42
        }
      ]
    },
    {
      "cell_type": "code",
      "source": [
        "x=[p.stem(word) for word in review if not word in set(stopwords.words('english'))]\n",
        "v=[]\n",
        "for i in range(len(review)):\n",
        "  if review[i] not in set(stopwords.words('english')):\n",
        "    v.append(p.stem(review[i]))\n",
        "v = []\n",
        "for i in range(len(review)):\n",
        "    word = review[i]\n",
        "    if word not in set(stopwords.words('english')):\n",
        "        v.append(p.stem(word))"
      ],
      "metadata": {
        "id": "eg_kWynIEpS6"
      },
      "execution_count": null,
      "outputs": []
    },
    {
      "cell_type": "code",
      "source": [
        "v\n"
      ],
      "metadata": {
        "colab": {
          "base_uri": "https://localhost:8080/"
        },
        "id": "297SqFbtE7vv",
        "outputId": "d78883b8-425e-40c5-f8a6-140629ab9e28"
      },
      "execution_count": null,
      "outputs": [
        {
          "output_type": "execute_result",
          "data": {
            "text/plain": [
              "['hi', 'hello', 'hous', 'dem', 'aid', 'even', 'see', 'comey']"
            ]
          },
          "metadata": {},
          "execution_count": 44
        }
      ]
    },
    {
      "cell_type": "code",
      "source": [
        "review=' '.join(x)"
      ],
      "metadata": {
        "id": "d7aVrYl_E8Ct"
      },
      "execution_count": null,
      "outputs": []
    },
    {
      "cell_type": "code",
      "source": [
        "review"
      ],
      "metadata": {
        "colab": {
          "base_uri": "https://localhost:8080/",
          "height": 35
        },
        "id": "P0YoX2y4FOzm",
        "outputId": "cb7be57e-a0fe-4a54-b5b0-6c1ee1d0dc33"
      },
      "execution_count": null,
      "outputs": [
        {
          "output_type": "execute_result",
          "data": {
            "text/plain": [
              "'hi hello hous dem aid even see comey'"
            ],
            "application/vnd.google.colaboratory.intrinsic+json": {
              "type": "string"
            }
          },
          "metadata": {},
          "execution_count": 46
        }
      ]
    },
    {
      "cell_type": "code",
      "source": [
        "voc_size=100\n"
      ],
      "metadata": {
        "id": "jbnrzPRUFPvy"
      },
      "execution_count": null,
      "outputs": []
    },
    {
      "cell_type": "code",
      "source": [
        "corups=one_hot(review,voc_size)"
      ],
      "metadata": {
        "id": "CdiuQk8NFl1s"
      },
      "execution_count": null,
      "outputs": []
    },
    {
      "cell_type": "code",
      "source": [
        "corups"
      ],
      "metadata": {
        "colab": {
          "base_uri": "https://localhost:8080/"
        },
        "id": "z62ZVeDqF0Kz",
        "outputId": "e448f841-3cf0-41dd-ceb8-4f0300befbfa"
      },
      "execution_count": null,
      "outputs": [
        {
          "output_type": "execute_result",
          "data": {
            "text/plain": [
              "[28, 18, 22, 1, 93, 6, 65, 53]"
            ]
          },
          "metadata": {},
          "execution_count": 49
        }
      ]
    },
    {
      "cell_type": "code",
      "source": [
        "sen_len=10\n",
        "y=pad_sequences([corups],padding='post',maxlen=sen_len)\n",
        "y"
      ],
      "metadata": {
        "colab": {
          "base_uri": "https://localhost:8080/"
        },
        "id": "iRDH2yF_GA3T",
        "outputId": "936b981e-37b5-4f10-ff25-fc386c6d149c"
      },
      "execution_count": null,
      "outputs": [
        {
          "output_type": "execute_result",
          "data": {
            "text/plain": [
              "array([[28, 18, 22,  1, 93,  6, 65, 53,  0,  0]], dtype=int32)"
            ]
          },
          "metadata": {},
          "execution_count": 50
        }
      ]
    },
    {
      "cell_type": "code",
      "source": [
        "e_feature=10\n",
        "emd=Embedding(voc_size,e_feature,input_length=sen_len)"
      ],
      "metadata": {
        "colab": {
          "base_uri": "https://localhost:8080/"
        },
        "id": "sOfog0KRGOHo",
        "outputId": "e3649674-0851-4233-e341-91cf01f04b1f"
      },
      "execution_count": null,
      "outputs": [
        {
          "output_type": "stream",
          "name": "stderr",
          "text": [
            "/usr/local/lib/python3.11/dist-packages/keras/src/layers/core/embedding.py:90: UserWarning: Argument `input_length` is deprecated. Just remove it.\n",
            "  warnings.warn(\n"
          ]
        }
      ]
    },
    {
      "cell_type": "code",
      "source": [
        "model=Sequential()"
      ],
      "metadata": {
        "id": "DlXXneEbHATH"
      },
      "execution_count": null,
      "outputs": []
    },
    {
      "cell_type": "code",
      "source": [
        "model.add(emd)  # your embedding layer\n",
        "model.add(LSTM(64))  # sequence understanding\n",
        "model.add(Dense(1, activation='sigmoid'))  # binary output"
      ],
      "metadata": {
        "id": "jbSBA0ejHQpe"
      },
      "execution_count": null,
      "outputs": []
    },
    {
      "cell_type": "code",
      "source": [
        "m.predict(y)"
      ],
      "metadata": {
        "colab": {
          "base_uri": "https://localhost:8080/"
        },
        "id": "e22hpX9rHWYT",
        "outputId": "c421ed72-9a81-405c-e720-9df7022fb127"
      },
      "execution_count": null,
      "outputs": [
        {
          "output_type": "stream",
          "name": "stdout",
          "text": [
            "\u001b[1m1/1\u001b[0m \u001b[32m━━━━━━━━━━━━━━━━━━━━\u001b[0m\u001b[37m\u001b[0m \u001b[1m0s\u001b[0m 59ms/step\n"
          ]
        },
        {
          "output_type": "execute_result",
          "data": {
            "text/plain": [
              "array([[[ 0.01281942,  0.01965537, -0.00930035, -0.01595769,\n",
              "         -0.02242174, -0.00281366, -0.0236338 ,  0.04015466,\n",
              "          0.00553384, -0.00639892],\n",
              "        [ 0.00616318, -0.03076782,  0.02113861, -0.04565115,\n",
              "          0.01417779,  0.00124371,  0.02861739,  0.03391563,\n",
              "          0.03969281, -0.0373358 ],\n",
              "        [ 0.02516362, -0.04649198, -0.00313817, -0.01951512,\n",
              "          0.03736276, -0.02104626,  0.01284378, -0.01742429,\n",
              "          0.02036274, -0.02739073],\n",
              "        [-0.0374202 ,  0.03601128,  0.04428799, -0.01791374,\n",
              "         -0.04340017,  0.04538735,  0.001916  , -0.04689166,\n",
              "          0.01108652,  0.03869475],\n",
              "        [ 0.03697649, -0.03344131,  0.03984613, -0.00182144,\n",
              "         -0.03361671, -0.00168641,  0.00426509,  0.01123154,\n",
              "         -0.03229376,  0.01218373],\n",
              "        [-0.0486453 , -0.02452335,  0.03245015, -0.00423387,\n",
              "         -0.01467314, -0.03626368,  0.04899563, -0.02845841,\n",
              "         -0.02091969,  0.04904797],\n",
              "        [ 0.0333898 , -0.0241508 , -0.01967308,  0.02966292,\n",
              "          0.02102169, -0.04645139,  0.01158184, -0.00042162,\n",
              "         -0.0188174 ,  0.00429015],\n",
              "        [ 0.01983507, -0.02031785, -0.00253563, -0.02768573,\n",
              "         -0.03375485,  0.00052668,  0.03467884,  0.03399842,\n",
              "         -0.0443663 , -0.02994696],\n",
              "        [-0.00578243,  0.02555904,  0.01364907, -0.00542259,\n",
              "          0.04889515,  0.0026023 , -0.04264406, -0.0430452 ,\n",
              "         -0.04757477, -0.00704529],\n",
              "        [-0.00578243,  0.02555904,  0.01364907, -0.00542259,\n",
              "          0.04889515,  0.0026023 , -0.04264406, -0.0430452 ,\n",
              "         -0.04757477, -0.00704529]]], dtype=float32)"
            ]
          },
          "metadata": {},
          "execution_count": 62
        }
      ]
    },
    {
      "cell_type": "code",
      "source": [],
      "metadata": {
        "id": "EISe6PUzrRT6"
      },
      "execution_count": null,
      "outputs": []
    }
  ]
}